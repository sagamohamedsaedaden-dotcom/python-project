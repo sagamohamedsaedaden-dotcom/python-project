{
 "cells": [
  {
   "cell_type": "code",
   "execution_count": null,
   "id": "9d15de57",
   "metadata": {},
   "outputs": [],
   "source": []
  }
 ],
 "metadata": {
  "language_info": {
   "name": "python"
  }
 },
 "nbformat": 4,
 "nbformat_minor": 5
}
