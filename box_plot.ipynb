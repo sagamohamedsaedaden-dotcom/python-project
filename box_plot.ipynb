{
 "cells": [
  {
   "cell_type": "code",
   "execution_count": 1,
   "id": "74a3c31d",
   "metadata": {},
   "outputs": [
    {
     "name": "stderr",
     "output_type": "stream",
     "text": [
      "c:\\Users\\HP\\anaconda3\\envs\\pn_course\\Lib\\site-packages\\tqdm\\auto.py:21: TqdmWarning: IProgress not found. Please update jupyter and ipywidgets. See https://ipywidgets.readthedocs.io/en/stable/user_install.html\n",
      "  from .autonotebook import tqdm as notebook_tqdm\n"
     ]
    }
   ],
   "source": [
    "import pandas as pd\n",
    "from datasets import load_dataset\n",
    "import matplotlib.pyplot as plt\n",
    "df=pd.read_csv('https://lukeb.co//python_csv')\n",
    "df['job_posted_date']=pd.to_datetime(df['job_posted_date'])\n",
    "import ast\n",
    "df['job_skills'] = df['job_skills'].apply(\n",
    "    lambda skill: ast.literal_eval(skill) if isinstance(skill, str) else skill\n",
    ")\n"
   ]
  },
  {
   "cell_type": "code",
   "execution_count": 7,
   "id": "271b715a",
   "metadata": {},
   "outputs": [],
   "source": [
    "df_DA_US= df[(df['job_title_short'] == 'Data Analyst') & (df['job_country']== 'United States')].copy()\n",
    "df_DA_US=df_DA_US.dropna(subset=['salary_year_avg'])"
   ]
  },
  {
   "cell_type": "code",
   "execution_count": 8,
   "id": "b1d0277f",
   "metadata": {},
   "outputs": [
    {
     "data": {
      "text/html": [
       "<div>\n",
       "<style scoped>\n",
       "    .dataframe tbody tr th:only-of-type {\n",
       "        vertical-align: middle;\n",
       "    }\n",
       "\n",
       "    .dataframe tbody tr th {\n",
       "        vertical-align: top;\n",
       "    }\n",
       "\n",
       "    .dataframe thead th {\n",
       "        text-align: right;\n",
       "    }\n",
       "</style>\n",
       "<table border=\"1\" class=\"dataframe\">\n",
       "  <thead>\n",
       "    <tr style=\"text-align: right;\">\n",
       "      <th></th>\n",
       "      <th>job_title_short</th>\n",
       "      <th>job_title</th>\n",
       "      <th>job_location</th>\n",
       "      <th>job_via</th>\n",
       "      <th>job_schedule_type</th>\n",
       "      <th>job_work_from_home</th>\n",
       "      <th>search_location</th>\n",
       "      <th>job_posted_date</th>\n",
       "      <th>job_no_degree_mention</th>\n",
       "      <th>job_health_insurance</th>\n",
       "      <th>job_country</th>\n",
       "      <th>salary_rate</th>\n",
       "      <th>salary_year_avg</th>\n",
       "      <th>salary_hour_avg</th>\n",
       "      <th>company_name</th>\n",
       "      <th>job_skills</th>\n",
       "      <th>job_type_skills</th>\n",
       "    </tr>\n",
       "  </thead>\n",
       "  <tbody>\n",
       "    <tr>\n",
       "      <th>109</th>\n",
       "      <td>Data Analyst</td>\n",
       "      <td>Senior Supply Chain Analytics Analyst</td>\n",
       "      <td>Anywhere</td>\n",
       "      <td>via Get.It</td>\n",
       "      <td>Full-time</td>\n",
       "      <td>True</td>\n",
       "      <td>Illinois, United States</td>\n",
       "      <td>2023-10-12 13:02:19</td>\n",
       "      <td>False</td>\n",
       "      <td>True</td>\n",
       "      <td>United States</td>\n",
       "      <td>year</td>\n",
       "      <td>89000.0</td>\n",
       "      <td>NaN</td>\n",
       "      <td>Get It Recruit - Transportation</td>\n",
       "      <td>[python, r, alteryx, tableau]</td>\n",
       "      <td>{'analyst_tools': ['alteryx', 'tableau'], 'pro...</td>\n",
       "    </tr>\n",
       "    <tr>\n",
       "      <th>180</th>\n",
       "      <td>Data Analyst</td>\n",
       "      <td>Data Analyst III</td>\n",
       "      <td>Dos Palos, CA</td>\n",
       "      <td>via My ArkLaMiss Jobs</td>\n",
       "      <td>Full-time</td>\n",
       "      <td>False</td>\n",
       "      <td>California, United States</td>\n",
       "      <td>2023-02-27 13:00:39</td>\n",
       "      <td>False</td>\n",
       "      <td>True</td>\n",
       "      <td>United States</td>\n",
       "      <td>year</td>\n",
       "      <td>90250.0</td>\n",
       "      <td>NaN</td>\n",
       "      <td>California Health &amp; Wellness</td>\n",
       "      <td>[excel, powerpoint]</td>\n",
       "      <td>{'analyst_tools': ['excel', 'powerpoint']}</td>\n",
       "    </tr>\n",
       "    <tr>\n",
       "      <th>410</th>\n",
       "      <td>Data Analyst</td>\n",
       "      <td>IT Business Lead Data Analyst - VP - Hybrid</td>\n",
       "      <td>Atlantic Beach, FL</td>\n",
       "      <td>via ComputerJobs.com</td>\n",
       "      <td>Full-time</td>\n",
       "      <td>False</td>\n",
       "      <td>Georgia</td>\n",
       "      <td>2023-01-10 13:59:02</td>\n",
       "      <td>False</td>\n",
       "      <td>False</td>\n",
       "      <td>United States</td>\n",
       "      <td>year</td>\n",
       "      <td>133285.0</td>\n",
       "      <td>NaN</td>\n",
       "      <td>Citi</td>\n",
       "      <td>[sql, word, excel, visio, powerpoint, sharepoint]</td>\n",
       "      <td>{'analyst_tools': ['word', 'excel', 'visio', '...</td>\n",
       "    </tr>\n",
       "    <tr>\n",
       "      <th>988</th>\n",
       "      <td>Data Analyst</td>\n",
       "      <td>DATA ANALYST (ONSITE)</td>\n",
       "      <td>Springfield, MA</td>\n",
       "      <td>via Indeed</td>\n",
       "      <td>Full-time</td>\n",
       "      <td>False</td>\n",
       "      <td>New York, United States</td>\n",
       "      <td>2023-11-21 13:00:13</td>\n",
       "      <td>False</td>\n",
       "      <td>False</td>\n",
       "      <td>United States</td>\n",
       "      <td>year</td>\n",
       "      <td>62623.0</td>\n",
       "      <td>NaN</td>\n",
       "      <td>Springfield Public Schools</td>\n",
       "      <td>[sql, excel, tableau]</td>\n",
       "      <td>{'analyst_tools': ['excel', 'tableau'], 'progr...</td>\n",
       "    </tr>\n",
       "    <tr>\n",
       "      <th>1413</th>\n",
       "      <td>Data Analyst</td>\n",
       "      <td>Junior BI Developer</td>\n",
       "      <td>Atlanta, GA</td>\n",
       "      <td>via Ai-Jobs.net</td>\n",
       "      <td>Full-time</td>\n",
       "      <td>False</td>\n",
       "      <td>Georgia</td>\n",
       "      <td>2023-10-31 13:57:41</td>\n",
       "      <td>False</td>\n",
       "      <td>True</td>\n",
       "      <td>United States</td>\n",
       "      <td>year</td>\n",
       "      <td>71300.0</td>\n",
       "      <td>NaN</td>\n",
       "      <td>Guidehouse</td>\n",
       "      <td>[sql, excel, power bi]</td>\n",
       "      <td>{'analyst_tools': ['excel', 'power bi'], 'prog...</td>\n",
       "    </tr>\n",
       "    <tr>\n",
       "      <th>...</th>\n",
       "      <td>...</td>\n",
       "      <td>...</td>\n",
       "      <td>...</td>\n",
       "      <td>...</td>\n",
       "      <td>...</td>\n",
       "      <td>...</td>\n",
       "      <td>...</td>\n",
       "      <td>...</td>\n",
       "      <td>...</td>\n",
       "      <td>...</td>\n",
       "      <td>...</td>\n",
       "      <td>...</td>\n",
       "      <td>...</td>\n",
       "      <td>...</td>\n",
       "      <td>...</td>\n",
       "      <td>...</td>\n",
       "      <td>...</td>\n",
       "    </tr>\n",
       "    <tr>\n",
       "      <th>782637</th>\n",
       "      <td>Data Analyst</td>\n",
       "      <td>Data Integration Analyst</td>\n",
       "      <td>Germantown, WI</td>\n",
       "      <td>via ZipRecruiter</td>\n",
       "      <td>Full-time</td>\n",
       "      <td>False</td>\n",
       "      <td>Illinois, United States</td>\n",
       "      <td>2023-01-20 06:18:43</td>\n",
       "      <td>True</td>\n",
       "      <td>False</td>\n",
       "      <td>United States</td>\n",
       "      <td>year</td>\n",
       "      <td>70000.0</td>\n",
       "      <td>NaN</td>\n",
       "      <td>Virtual Benefits Administrator</td>\n",
       "      <td>[vba, sql, sql server]</td>\n",
       "      <td>{'databases': ['sql server'], 'programming': [...</td>\n",
       "    </tr>\n",
       "    <tr>\n",
       "      <th>782798</th>\n",
       "      <td>Data Analyst</td>\n",
       "      <td>Reference Data Analyst</td>\n",
       "      <td>New York, NY</td>\n",
       "      <td>via Ai-Jobs.net</td>\n",
       "      <td>Full-time</td>\n",
       "      <td>False</td>\n",
       "      <td>New York, United States</td>\n",
       "      <td>2023-04-21 05:59:51</td>\n",
       "      <td>True</td>\n",
       "      <td>False</td>\n",
       "      <td>United States</td>\n",
       "      <td>year</td>\n",
       "      <td>111175.0</td>\n",
       "      <td>NaN</td>\n",
       "      <td>DRW</td>\n",
       "      <td>[terminal]</td>\n",
       "      <td>{'other': ['terminal']}</td>\n",
       "    </tr>\n",
       "    <tr>\n",
       "      <th>783588</th>\n",
       "      <td>Data Analyst</td>\n",
       "      <td>Data Analytics Manager</td>\n",
       "      <td>Chicago, IL</td>\n",
       "      <td>via Ladders</td>\n",
       "      <td>Full-time</td>\n",
       "      <td>False</td>\n",
       "      <td>Illinois, United States</td>\n",
       "      <td>2023-01-09 06:01:18</td>\n",
       "      <td>False</td>\n",
       "      <td>False</td>\n",
       "      <td>United States</td>\n",
       "      <td>year</td>\n",
       "      <td>125000.0</td>\n",
       "      <td>NaN</td>\n",
       "      <td>United Air Lines, Inc</td>\n",
       "      <td>[sql, r, python, hadoop, excel]</td>\n",
       "      <td>{'analyst_tools': ['excel'], 'libraries': ['ha...</td>\n",
       "    </tr>\n",
       "    <tr>\n",
       "      <th>783866</th>\n",
       "      <td>Data Analyst</td>\n",
       "      <td>Lead Credit Bureau Data Analyst</td>\n",
       "      <td>Des Plaines, IL</td>\n",
       "      <td>via Ladders</td>\n",
       "      <td>Full-time</td>\n",
       "      <td>False</td>\n",
       "      <td>Illinois, United States</td>\n",
       "      <td>2023-06-02 06:02:06</td>\n",
       "      <td>False</td>\n",
       "      <td>True</td>\n",
       "      <td>United States</td>\n",
       "      <td>year</td>\n",
       "      <td>115000.0</td>\n",
       "      <td>NaN</td>\n",
       "      <td>Discover Financial Services</td>\n",
       "      <td>[unix]</td>\n",
       "      <td>{'os': ['unix']}</td>\n",
       "    </tr>\n",
       "    <tr>\n",
       "      <th>784882</th>\n",
       "      <td>Data Analyst</td>\n",
       "      <td>Merchandising Analyst (Data Analyst)</td>\n",
       "      <td>Denton, TX</td>\n",
       "      <td>via LinkedIn</td>\n",
       "      <td>Full-time</td>\n",
       "      <td>False</td>\n",
       "      <td>Texas, United States</td>\n",
       "      <td>2023-01-04 15:29:24</td>\n",
       "      <td>False</td>\n",
       "      <td>False</td>\n",
       "      <td>United States</td>\n",
       "      <td>year</td>\n",
       "      <td>87500.0</td>\n",
       "      <td>NaN</td>\n",
       "      <td>Insight Global</td>\n",
       "      <td>[sql, vba, tableau, excel, alteryx]</td>\n",
       "      <td>{'analyst_tools': ['tableau', 'excel', 'altery...</td>\n",
       "    </tr>\n",
       "  </tbody>\n",
       "</table>\n",
       "<p>4350 rows × 17 columns</p>\n",
       "</div>"
      ],
      "text/plain": [
       "       job_title_short                                    job_title  \\\n",
       "109       Data Analyst        Senior Supply Chain Analytics Analyst   \n",
       "180       Data Analyst                             Data Analyst III   \n",
       "410       Data Analyst  IT Business Lead Data Analyst - VP - Hybrid   \n",
       "988       Data Analyst                        DATA ANALYST (ONSITE)   \n",
       "1413      Data Analyst                          Junior BI Developer   \n",
       "...                ...                                          ...   \n",
       "782637    Data Analyst                     Data Integration Analyst   \n",
       "782798    Data Analyst                       Reference Data Analyst   \n",
       "783588    Data Analyst                       Data Analytics Manager   \n",
       "783866    Data Analyst              Lead Credit Bureau Data Analyst   \n",
       "784882    Data Analyst         Merchandising Analyst (Data Analyst)   \n",
       "\n",
       "              job_location                job_via job_schedule_type  \\\n",
       "109               Anywhere             via Get.It         Full-time   \n",
       "180          Dos Palos, CA  via My ArkLaMiss Jobs         Full-time   \n",
       "410     Atlantic Beach, FL   via ComputerJobs.com         Full-time   \n",
       "988        Springfield, MA             via Indeed         Full-time   \n",
       "1413           Atlanta, GA        via Ai-Jobs.net         Full-time   \n",
       "...                    ...                    ...               ...   \n",
       "782637      Germantown, WI       via ZipRecruiter         Full-time   \n",
       "782798        New York, NY        via Ai-Jobs.net         Full-time   \n",
       "783588         Chicago, IL            via Ladders         Full-time   \n",
       "783866     Des Plaines, IL            via Ladders         Full-time   \n",
       "784882          Denton, TX           via LinkedIn         Full-time   \n",
       "\n",
       "        job_work_from_home            search_location     job_posted_date  \\\n",
       "109                   True    Illinois, United States 2023-10-12 13:02:19   \n",
       "180                  False  California, United States 2023-02-27 13:00:39   \n",
       "410                  False                    Georgia 2023-01-10 13:59:02   \n",
       "988                  False    New York, United States 2023-11-21 13:00:13   \n",
       "1413                 False                    Georgia 2023-10-31 13:57:41   \n",
       "...                    ...                        ...                 ...   \n",
       "782637               False    Illinois, United States 2023-01-20 06:18:43   \n",
       "782798               False    New York, United States 2023-04-21 05:59:51   \n",
       "783588               False    Illinois, United States 2023-01-09 06:01:18   \n",
       "783866               False    Illinois, United States 2023-06-02 06:02:06   \n",
       "784882               False       Texas, United States 2023-01-04 15:29:24   \n",
       "\n",
       "        job_no_degree_mention  job_health_insurance    job_country  \\\n",
       "109                     False                  True  United States   \n",
       "180                     False                  True  United States   \n",
       "410                     False                 False  United States   \n",
       "988                     False                 False  United States   \n",
       "1413                    False                  True  United States   \n",
       "...                       ...                   ...            ...   \n",
       "782637                   True                 False  United States   \n",
       "782798                   True                 False  United States   \n",
       "783588                  False                 False  United States   \n",
       "783866                  False                  True  United States   \n",
       "784882                  False                 False  United States   \n",
       "\n",
       "       salary_rate  salary_year_avg  salary_hour_avg  \\\n",
       "109           year          89000.0              NaN   \n",
       "180           year          90250.0              NaN   \n",
       "410           year         133285.0              NaN   \n",
       "988           year          62623.0              NaN   \n",
       "1413          year          71300.0              NaN   \n",
       "...            ...              ...              ...   \n",
       "782637        year          70000.0              NaN   \n",
       "782798        year         111175.0              NaN   \n",
       "783588        year         125000.0              NaN   \n",
       "783866        year         115000.0              NaN   \n",
       "784882        year          87500.0              NaN   \n",
       "\n",
       "                           company_name  \\\n",
       "109     Get It Recruit - Transportation   \n",
       "180        California Health & Wellness   \n",
       "410                                Citi   \n",
       "988          Springfield Public Schools   \n",
       "1413                         Guidehouse   \n",
       "...                                 ...   \n",
       "782637   Virtual Benefits Administrator   \n",
       "782798                              DRW   \n",
       "783588            United Air Lines, Inc   \n",
       "783866      Discover Financial Services   \n",
       "784882                   Insight Global   \n",
       "\n",
       "                                               job_skills  \\\n",
       "109                         [python, r, alteryx, tableau]   \n",
       "180                                   [excel, powerpoint]   \n",
       "410     [sql, word, excel, visio, powerpoint, sharepoint]   \n",
       "988                                 [sql, excel, tableau]   \n",
       "1413                               [sql, excel, power bi]   \n",
       "...                                                   ...   \n",
       "782637                             [vba, sql, sql server]   \n",
       "782798                                         [terminal]   \n",
       "783588                    [sql, r, python, hadoop, excel]   \n",
       "783866                                             [unix]   \n",
       "784882                [sql, vba, tableau, excel, alteryx]   \n",
       "\n",
       "                                          job_type_skills  \n",
       "109     {'analyst_tools': ['alteryx', 'tableau'], 'pro...  \n",
       "180            {'analyst_tools': ['excel', 'powerpoint']}  \n",
       "410     {'analyst_tools': ['word', 'excel', 'visio', '...  \n",
       "988     {'analyst_tools': ['excel', 'tableau'], 'progr...  \n",
       "1413    {'analyst_tools': ['excel', 'power bi'], 'prog...  \n",
       "...                                                   ...  \n",
       "782637  {'databases': ['sql server'], 'programming': [...  \n",
       "782798                            {'other': ['terminal']}  \n",
       "783588  {'analyst_tools': ['excel'], 'libraries': ['ha...  \n",
       "783866                                   {'os': ['unix']}  \n",
       "784882  {'analyst_tools': ['tableau', 'excel', 'altery...  \n",
       "\n",
       "[4350 rows x 17 columns]"
      ]
     },
     "execution_count": 8,
     "metadata": {},
     "output_type": "execute_result"
    }
   ],
   "source": [
    "df_DA_US"
   ]
  },
  {
   "cell_type": "code",
   "execution_count": 17,
   "id": "b883eb24",
   "metadata": {},
   "outputs": [
    {
     "data": {
      "text/plain": [
       "89258     109735.0\n",
       "222474    100000.0\n",
       "676038     90000.0\n",
       "110678     63211.0\n",
       "495517    107250.0\n",
       "324623     77500.0\n",
       "444115     87500.0\n",
       "94968      84305.0\n",
       "171448     55000.0\n",
       "189136     67500.0\n",
       "Name: salary_year_avg, dtype: float64"
      ]
     },
     "execution_count": 17,
     "metadata": {},
     "output_type": "execute_result"
    }
   ],
   "source": [
    "df_DA_US['salary_year_avg'].sample(10)"
   ]
  },
  {
   "cell_type": "markdown",
   "id": "3f2301b8",
   "metadata": {},
   "source": [
    "## compare histogram and box plot"
   ]
  },
  {
   "cell_type": "code",
   "execution_count": 13,
   "id": "3b274771",
   "metadata": {},
   "outputs": [
    {
     "data": {
      "text/plain": [
       "Text(0.5, 1.0, 'salary distributions for data analyst in US')"
      ]
     },
     "execution_count": 13,
     "metadata": {},
     "output_type": "execute_result"
    },
    {
     "data": {
      "image/png": "[encoded data removed]",
      "text/plain": [
       "<Figure size 640x480 with 1 Axes>"
      ]
     },
     "metadata": {},
     "output_type": "display_data"
    }
   ],
   "source": [
    "df_DA_US['salary_year_avg'].plot(kind='hist',bins=40,edgecolor='black')\n",
    "plt.title('salary distributions for data analyst in US')"
   ]
  },
  {
   "cell_type": "code",
   "execution_count": null,
   "id": "c432cd8a",
   "metadata": {},
   "outputs": [
    {
     "data": {
      "text/plain": [
       "Text(0.5, 1.0, 'salary distributions for data analyst in US')"
      ]
     },
     "execution_count": 12,
     "metadata": {},
     "output_type": "execute_result"
    },
    {
     "data": {
      "image/png": "[encoded data removed]",
      "text/plain": [
       "<Figure size 640x480 with 1 Axes>"
      ]
     },
     "metadata": {},
     "output_type": "display_data"
    }
   ],
   "source": [
    "df_DA_US['salary_year_avg'].plot(kind='box',vert=False)\n"
   ]
  },
  {
   "cell_type": "markdown",
   "id": "37650ca9",
   "metadata": {},
   "source": [
    "##  lets break what happend inside box plot "
   ]
  },
  {
   "cell_type": "code",
   "execution_count": null,
   "id": "21922d7a",
   "metadata": {},
   "outputs": [],
   "source": [
    "\n",
    "#yellow line is median\n",
    "# every things in box is 50% of data called(interqurtile range)"
   ]
  },
  {
   "cell_type": "markdown",
   "id": "87a6d46b",
   "metadata": {},
   "source": [
    "## we want to find three jobs\n"
   ]
  },
  {
   "cell_type": "code",
   "execution_count": null,
   "id": "5a10cbf8",
   "metadata": {},
   "outputs": [],
   "source": [
    "job_titles=['Data Analyst', 'Data Scientist', 'Data Engineer']\n",
    "# df_US= df[(df['job_title_short'] == job_titles) & (df['job_country']== 'United States')].copy()\n",
    "# df_US  \n",
    "# error: Only works if job_titlesis a single string , not a list. If it's a list, you'll get an error "
   ]
  },
  {
   "cell_type": "code",
   "execution_count": 26,
   "id": "8dd46b34",
   "metadata": {},
   "outputs": [],
   "source": [
    "df_US = df[(df['job_title_short'].isin(job_titles)) & (df['job_country'] == 'United States')].copy()\n",
    "df_US=df_US.dropna(subset=['salary_year_avg'])\n"
   ]
  },
  {
   "cell_type": "code",
   "execution_count": null,
   "id": "8ded292e",
   "metadata": {},
   "outputs": [
    {
     "data": {
      "text/plain": [
       "109        89000.0\n",
       "180        90250.0\n",
       "410       133285.0\n",
       "988        62623.0\n",
       "1413       71300.0\n",
       "            ...   \n",
       "782637     70000.0\n",
       "782798    111175.0\n",
       "783588    125000.0\n",
       "783866    115000.0\n",
       "784882     87500.0\n",
       "Name: salary_year_avg, Length: 4350, dtype: float64"
      ]
     },
     "execution_count": 55,
     "metadata": {},
     "output_type": "execute_result"
    }
   ],
   "source": [
    "#list comprehensive \n",
    "job_list=[df_US [df_US['job_title_short'] == job_title]['salary_year_avg'] for job_title in job_titles ]\n",
    "#Selects the salary_year_avg column from that filtered DataFrame.\n",
    "\n",
    "job_list[0]  #means you are accessing the first element in the list job_list."
   ]
  },
  {
   "cell_type": "code",
   "execution_count": 56,
   "id": "fe246161",
   "metadata": {},
   "outputs": [
    {
     "data": {
      "text/plain": [
       "list"
      ]
     },
     "execution_count": 56,
     "metadata": {},
     "output_type": "execute_result"
    }
   ],
   "source": [
    "type(job_list)"
   ]
  },
  {
   "cell_type": "markdown",
   "id": "19f5cf3b",
   "metadata": {},
   "source": [
    "## what this code tell us "
   ]
  },
  {
   "cell_type": "code",
   "execution_count": 35,
   "id": "72045450",
   "metadata": {},
   "outputs": [],
   "source": [
    "#this code collects the salary_year_avg values  for each job title in job_titles\n"
   ]
  },
  {
   "cell_type": "code",
   "execution_count": null,
   "id": "0cdf37da",
   "metadata": {},
   "outputs": [
    {
     "name": "stderr",
     "output_type": "stream",
     "text": [
      "C:\\Users\\HP\\AppData\\Local\\Temp\\ipykernel_10700\\299610964.py:1: MatplotlibDeprecationWarning: The 'labels' parameter of boxplot() has been renamed 'tick_labels' since Matplotlib 3.9; support for the old name will be dropped in 3.11.\n",
      "  plt.boxplot(job_list,vert=False,labels= job_titles)\n"
     ]
    },
    {
     "data": {
      "image/png": "[encoded data removed]",
      "text/plain": [
       "<Figure size 640x480 with 1 Axes>"
      ]
     },
     "metadata": {},
     "output_type": "display_data"
    }
   ],
   "source": [
    "\n",
    "plt.boxplot(job_list,vert=False,labels= job_titles)\n",
    "plt.title('salary distributions in US')\n",
    "plt.xlabel('yearly salary ($USD)')\n",
    "\n",
    "ax=plt.gca()\n",
    "\n",
    "\n",
    "ax.xaxis.set_major_formatter(plt.FuncFormatter(lambda x,pos:f' ${int(x/1000)}k'))\n",
    "plt.xlim(0,600000)\n",
    "plt.show() #should allways be last thing "
   ]
  },
  {
   "cell_type": "code",
   "execution_count": null,
   "id": "10fe360e",
   "metadata": {},
   "outputs": [],
   "source": [
    "#LIST COMPREHENSION EXPLAINED\n",
    "#------------------------------------------------------------\n",
    "#[ expression for item in iterable if condition ]\n",
    "# expression→ What to DO with each \"item\".\n",
    "#`for item` → tells Python *what to loop through*\n",
    "\n",
    "#Explanation of plt.boxplot(job_list, labels=job_titles):\n",
    "# job_list→ The data to plot.\n",
    "\n",
    "\n",
    "# if you want to filter you put condition into datafram :e.g. df[df['job_title_short'] == 'Data Analyst']\n"
   ]
  },
  {
   "cell_type": "code",
   "execution_count": null,
   "id": "64cc03f0",
   "metadata": {},
   "outputs": [],
   "source": []
  }
 ],
 "metadata": {
  "kernelspec": {
   "display_name": "pn_course",
   "language": "python",
   "name": "python3"
  },
  "language_info": {
   "codemirror_mode": {
    "name": "ipython",
    "version": 3
   },
   "file_extension": ".py",
   "mimetype": "text/x-python",
   "name": "python",
   "nbconvert_exporter": "python",
   "pygments_lexer": "ipython3",
   "version": "3.11.13"
  }
 },
 "nbformat": 4,
 "nbformat_minor": 5
}
